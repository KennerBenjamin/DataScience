{
 "cells": [
  {
   "cell_type": "code",
   "execution_count": 1,
   "metadata": {
    "collapsed": true,
    "pycharm": {
     "is_executing": false
    }
   },
   "outputs": [
    {
     "data": {
      "text/plain": "   number_people                       date  timestamp  day_of_week  \\\n0             37  2015-08-14 17:00:11-07:00      61211            4   \n1             45  2015-08-14 17:20:14-07:00      62414            4   \n2             40  2015-08-14 17:30:15-07:00      63015            4   \n3             44  2015-08-14 17:40:16-07:00      63616            4   \n4             45  2015-08-14 17:50:17-07:00      64217            4   \n\n   is_weekend  is_holiday  temperature  is_start_of_semester  \\\n0           0           0        71.76                     0   \n1           0           0        71.76                     0   \n2           0           0        71.76                     0   \n3           0           0        71.76                     0   \n4           0           0        71.76                     0   \n\n   is_during_semester  month  hour  \n0                   0      8    17  \n1                   0      8    17  \n2                   0      8    17  \n3                   0      8    17  \n4                   0      8    17  ",
      "text/html": "<div>\n<style scoped>\n    .dataframe tbody tr th:only-of-type {\n        vertical-align: middle;\n    }\n\n    .dataframe tbody tr th {\n        vertical-align: top;\n    }\n\n    .dataframe thead th {\n        text-align: right;\n    }\n</style>\n<table border=\"1\" class=\"dataframe\">\n  <thead>\n    <tr style=\"text-align: right;\">\n      <th></th>\n      <th>number_people</th>\n      <th>date</th>\n      <th>timestamp</th>\n      <th>day_of_week</th>\n      <th>is_weekend</th>\n      <th>is_holiday</th>\n      <th>temperature</th>\n      <th>is_start_of_semester</th>\n      <th>is_during_semester</th>\n      <th>month</th>\n      <th>hour</th>\n    </tr>\n  </thead>\n  <tbody>\n    <tr>\n      <th>0</th>\n      <td>37</td>\n      <td>2015-08-14 17:00:11-07:00</td>\n      <td>61211</td>\n      <td>4</td>\n      <td>0</td>\n      <td>0</td>\n      <td>71.76</td>\n      <td>0</td>\n      <td>0</td>\n      <td>8</td>\n      <td>17</td>\n    </tr>\n    <tr>\n      <th>1</th>\n      <td>45</td>\n      <td>2015-08-14 17:20:14-07:00</td>\n      <td>62414</td>\n      <td>4</td>\n      <td>0</td>\n      <td>0</td>\n      <td>71.76</td>\n      <td>0</td>\n      <td>0</td>\n      <td>8</td>\n      <td>17</td>\n    </tr>\n    <tr>\n      <th>2</th>\n      <td>40</td>\n      <td>2015-08-14 17:30:15-07:00</td>\n      <td>63015</td>\n      <td>4</td>\n      <td>0</td>\n      <td>0</td>\n      <td>71.76</td>\n      <td>0</td>\n      <td>0</td>\n      <td>8</td>\n      <td>17</td>\n    </tr>\n    <tr>\n      <th>3</th>\n      <td>44</td>\n      <td>2015-08-14 17:40:16-07:00</td>\n      <td>63616</td>\n      <td>4</td>\n      <td>0</td>\n      <td>0</td>\n      <td>71.76</td>\n      <td>0</td>\n      <td>0</td>\n      <td>8</td>\n      <td>17</td>\n    </tr>\n    <tr>\n      <th>4</th>\n      <td>45</td>\n      <td>2015-08-14 17:50:17-07:00</td>\n      <td>64217</td>\n      <td>4</td>\n      <td>0</td>\n      <td>0</td>\n      <td>71.76</td>\n      <td>0</td>\n      <td>0</td>\n      <td>8</td>\n      <td>17</td>\n    </tr>\n  </tbody>\n</table>\n</div>"
     },
     "metadata": {},
     "output_type": "execute_result",
     "execution_count": 1
    }
   ],
   "source": [
    "import pandas as pd\n",
    "\n",
    "data = pd.read_csv('data.csv')\n",
    "data.head()"
   ]
  },
  {
   "cell_type": "code",
   "execution_count": 2,
   "outputs": [],
   "source": [
    "times = ['date','timestamp']\n",
    "X = data.drop(times, axis=1)\n",
    "X = X.drop('number_people', axis=1).values\n",
    "y = data['number_people'].values"
   ],
   "metadata": {
    "collapsed": false,
    "pycharm": {
     "name": "#%%\n",
     "is_executing": false
    }
   }
  },
  {
   "cell_type": "code",
   "execution_count": 3,
   "outputs": [],
   "source": [
    "from sklearn.model_selection import train_test_split\n",
    "X_train,X_test,y_train,y_test = train_test_split(X,y,test_size=0.4,random_state=50)\n"
   ],
   "metadata": {
    "collapsed": false,
    "pycharm": {
     "name": "#%%\n",
     "is_executing": false
    }
   }
  },
  {
   "cell_type": "code",
   "execution_count": 15,
   "outputs": [
    {
     "name": "stderr",
     "text": [
      "C:\\Users\\kenne\\Anaconda3\\envs\\tensorflow\\lib\\site-packages\\sklearn\\ensemble\\forest.py:245: FutureWarning: The default value of n_estimators will change from 10 in version 0.20 to 100 in 0.22.\n  \"10 in version 0.20 to 100 in 0.22.\", FutureWarning)\n"
     ],
     "output_type": "stream"
    },
    {
     "data": {
      "text/plain": "0.9080647093697138"
     },
     "metadata": {},
     "output_type": "execute_result",
     "execution_count": 15
    }
   ],
   "source": [
    "from sklearn.ensemble import RandomForestRegressor\n",
    "import numpy as np\n",
    "import matplotlib.pyplot as plt\n",
    "\n",
    "model = RandomForestRegressor(n_jobs=90)\n",
    "model.fit(X_train, y_train)"
   ],
   "metadata": {
    "collapsed": false,
    "pycharm": {
     "name": "#%%\n",
     "is_executing": false
    }
   }
  },
  {
   "cell_type": "code",
   "execution_count": 19,
   "outputs": [
    {
     "name": "stdout",
     "text": [
      "Score:  0.9080647093697138\nExplained Variance:  0.9080668827969618\nMax Error:  80.23980062013044\nMean Absolute Error:  4.59920264546456\nMean Squared Error:  46.79875666569383\nR2:  0.9080647093697138\n"
     ],
     "output_type": "stream"
    }
   ],
   "source": [
    "from sklearn.metrics import explained_variance_score, max_error, mean_absolute_error, mean_squared_error, r2_score\n",
    "\n",
    "prediction = model.predict(X_test)\n",
    "print(\"Score: \",model.score(X_test,y_test))\n",
    "print(\"Explained Variance: \",explained_variance_score(y_test,prediction))\n",
    "print(\"Max Error: \",max_error(y_test,prediction))\n",
    "print(\"Mean Absolute Error: \",mean_absolute_error(y_test,prediction))\n",
    "print(\"Mean Squared Error: \",mean_squared_error(y_test,prediction))\n",
    "print(\"R2: \",r2_score(y_test,prediction))"
   ],
   "metadata": {
    "collapsed": false,
    "pycharm": {
     "name": "#%%\n",
     "is_executing": false
    }
   }
  },
  {
   "cell_type": "code",
   "execution_count": null,
   "outputs": [],
   "source": [
    "\n"
   ],
   "metadata": {
    "collapsed": false,
    "pycharm": {
     "name": "#%%\n"
    }
   }
  }
 ],
 "metadata": {
  "kernelspec": {
   "display_name": "Python 3",
   "language": "python",
   "name": "python3"
  },
  "language_info": {
   "codemirror_mode": {
    "name": "ipython",
    "version": 2
   },
   "file_extension": ".py",
   "mimetype": "text/x-python",
   "name": "python",
   "nbconvert_exporter": "python",
   "pygments_lexer": "ipython2",
   "version": "2.7.6"
  },
  "pycharm": {
   "stem_cell": {
    "cell_type": "raw",
    "source": [],
    "metadata": {
     "collapsed": false
    }
   }
  }
 },
 "nbformat": 4,
 "nbformat_minor": 0
}