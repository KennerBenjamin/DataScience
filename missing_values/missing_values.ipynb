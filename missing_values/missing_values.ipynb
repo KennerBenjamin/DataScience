{
 "cells": [
  {
   "cell_type": "code",
   "execution_count": 36,
   "metadata": {
    "collapsed": true,
    "pycharm": {
     "is_executing": false,
     "name": "#%%\n"
    }
   },
   "outputs": [],
   "source": [
    "import pandas as pd"
   ]
  },
  {
   "cell_type": "markdown",
   "source": [
    "## Daten löschen mit 2019 Crossfit Games Scores"
   ],
   "metadata": {
    "collapsed": false
   }
  },
  {
   "cell_type": "code",
   "execution_count": 37,
   "outputs": [
    {
     "name": "stdout",
     "text": [
      "ordinal            0\nbreakdown       2513\nlane               0\nrank               0\nheat               0\npoints             0\nscoredisplay    2513\ntime            2513\nworkoutrank        0\ncompetitorid       0\ndtype: int64\nordinal         0\nbreakdown       0\nlane            0\nrank            0\nheat            0\npoints          0\nscoredisplay    0\ntime            0\nworkoutrank     0\ncompetitorid    0\ndtype: int64\n"
     ],
     "output_type": "stream"
    }
   ],
   "source": [
    "data = pd.read_csv(\"2019_games_scores.csv\")\n",
    "print(data.isna().sum())\n",
    "data.dropna(inplace=True)\n",
    "print(data.isna().sum())"
   ],
   "metadata": {
    "collapsed": false,
    "pycharm": {
     "name": "#%%\n",
     "is_executing": false
    }
   }
  },
  {
   "cell_type": "markdown",
   "source": [
    "## Spalten löschen mit 2019 Games Athletes Data"
   ],
   "metadata": {
    "collapsed": false,
    "pycharm": {
     "name": "#%% md\n"
    }
   }
  },
  {
   "cell_type": "code",
   "execution_count": 38,
   "outputs": [
    {
     "name": "stdout",
     "text": [
      "height                  0\naffiliateid            37\ncountryoforiginname     0\nweight                  0\naffiliatename          37\nstatus                  0\nbibid                   0\nprofilepics3key         0\ncompetitorid            0\nfirstname               0\ngender                  0\nage                     0\nlastname                0\ncountryoforigincode     1\ncompetitorname          0\noverallrank             0\noverallscore            3\ndivision                0\ndtype: int64\nheight                 0\ncountryoforiginname    0\nweight                 0\nstatus                 0\nbibid                  0\nprofilepics3key        0\ncompetitorid           0\nfirstname              0\ngender                 0\nage                    0\nlastname               0\ncompetitorname         0\noverallrank            0\ndivision               0\ndtype: int64\n"
     ],
     "output_type": "stream"
    }
   ],
   "source": [
    "data = pd.read_csv(\"2019_games_athletes.csv\")\n",
    "print(data.isna().sum())\n",
    "data.dropna(axis=1, inplace=True)\n",
    "print(data.isna().sum())"
   ],
   "metadata": {
    "collapsed": false,
    "pycharm": {
     "name": "#%%\n",
     "is_executing": false
    }
   }
  },
  {
   "cell_type": "markdown",
   "source": [
    "# Time Series\n",
    "## Lineare Interpolation mit monthly pricing data"
   ],
   "metadata": {
    "collapsed": false
   }
  },
  {
   "cell_type": "code",
   "source": [
    "data = pd.read_csv(\"month_value.csv\")\n",
    "print(data.isna().sum())\n",
    "data.interpolate(inplace=True)\n",
    "print(data.isna().sum())"
   ],
   "metadata": {
    "collapsed": false,
    "pycharm": {
     "name": "#%%\n",
     "is_executing": false
    }
   },
   "execution_count": 39,
   "outputs": [
    {
     "name": "stdout",
     "text": [
      "Period                                       0\nRevenue                                     32\nSales_quantity                              32\nAverage_cost                                32\nThe_average_annual_payroll_of_the_region    32\ndtype: int64\nPeriod                                      0\nRevenue                                     0\nSales_quantity                              0\nAverage_cost                                0\nThe_average_annual_payroll_of_the_region    0\ndtype: int64\n"
     ],
     "output_type": "stream"
    }
   ]
  },
  {
   "cell_type": "markdown",
   "source": [
    "## LOCF mit exam forecasting data"
   ],
   "metadata": {
    "collapsed": false,
    "pycharm": {
     "name": "#%% md\n"
    }
   }
  },
  {
   "cell_type": "code",
   "execution_count": 40,
   "outputs": [
    {
     "name": "stdout",
     "text": [
      "Month            0\nIncomingExam    10\ndtype: int64\nMonth           0\nIncomingExam    0\ndtype: int64\n"
     ],
     "output_type": "stream"
    }
   ],
   "source": [
    "data = pd.read_csv(\"forecast.csv\")\n",
    "print(data.isna().sum())\n",
    "data.fillna(method='ffill',inplace=True)\n",
    "print(data.isna().sum())"
   ],
   "metadata": {
    "collapsed": false,
    "pycharm": {
     "name": "#%%\n",
     "is_executing": false
    }
   }
  },
  {
   "cell_type": "markdown",
   "source": [
    "## NOCB mit car travel data"
   ],
   "metadata": {
    "collapsed": false,
    "pycharm": {
     "name": "#%% md\n"
    }
   }
  },
  {
   "cell_type": "code",
   "execution_count": 41,
   "outputs": [
    {
     "name": "stdout",
     "text": [
      "ds      0\ny     252\ndtype: int64\nds    0\ny     0\ndtype: int64\n"
     ],
     "output_type": "stream"
    }
   ],
   "source": [
    "data = pd.read_csv(\"car_travel_data.csv\")\n",
    "print(data.isna().sum())\n",
    "data.fillna(method='bfill',inplace=True)\n",
    "print(data.isna().sum())\n"
   ],
   "metadata": {
    "collapsed": false,
    "pycharm": {
     "name": "#%%\n",
     "is_executing": false
    }
   }
  }
 ],
 "metadata": {
  "kernelspec": {
   "display_name": "Python 3",
   "language": "python",
   "name": "python3"
  },
  "language_info": {
   "codemirror_mode": {
    "name": "ipython",
    "version": 2
   },
   "file_extension": ".py",
   "mimetype": "text/x-python",
   "name": "python",
   "nbconvert_exporter": "python",
   "pygments_lexer": "ipython2",
   "version": "2.7.6"
  },
  "pycharm": {
   "stem_cell": {
    "cell_type": "raw",
    "source": [],
    "metadata": {
     "collapsed": false
    }
   }
  }
 },
 "nbformat": 4,
 "nbformat_minor": 0
}