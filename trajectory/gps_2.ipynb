{
 "cells": [
  {
   "cell_type": "code",
   "execution_count": 1,
   "metadata": {
    "collapsed": true
   },
   "outputs": [],
   "source": [
    "import pandas as pd\n",
    "import matplotlib.pyplot as plt"
   ]
  },
  {
   "cell_type": "code",
   "execution_count": 2,
   "outputs": [
    {
     "data": {
      "text/plain": "   ids   latitude   longitude  file\n0    0  39.984702  116.318417     0\n1    0  39.984683  116.318450     0\n2    0  39.984686  116.318417     0\n3    0  39.984688  116.318385     0\n4    0  39.984655  116.318263     0",
      "text/html": "<div>\n<style scoped>\n    .dataframe tbody tr th:only-of-type {\n        vertical-align: middle;\n    }\n\n    .dataframe tbody tr th {\n        vertical-align: top;\n    }\n\n    .dataframe thead th {\n        text-align: right;\n    }\n</style>\n<table border=\"1\" class=\"dataframe\">\n  <thead>\n    <tr style=\"text-align: right;\">\n      <th></th>\n      <th>ids</th>\n      <th>latitude</th>\n      <th>longitude</th>\n      <th>file</th>\n    </tr>\n  </thead>\n  <tbody>\n    <tr>\n      <th>0</th>\n      <td>0</td>\n      <td>39.984702</td>\n      <td>116.318417</td>\n      <td>0</td>\n    </tr>\n    <tr>\n      <th>1</th>\n      <td>0</td>\n      <td>39.984683</td>\n      <td>116.318450</td>\n      <td>0</td>\n    </tr>\n    <tr>\n      <th>2</th>\n      <td>0</td>\n      <td>39.984686</td>\n      <td>116.318417</td>\n      <td>0</td>\n    </tr>\n    <tr>\n      <th>3</th>\n      <td>0</td>\n      <td>39.984688</td>\n      <td>116.318385</td>\n      <td>0</td>\n    </tr>\n    <tr>\n      <th>4</th>\n      <td>0</td>\n      <td>39.984655</td>\n      <td>116.318263</td>\n      <td>0</td>\n    </tr>\n  </tbody>\n</table>\n</div>"
     },
     "execution_count": 2,
     "metadata": {},
     "output_type": "execute_result"
    }
   ],
   "source": [
    "data = pd.read_csv('gps_raw.csv')\n",
    "data.head()"
   ],
   "metadata": {
    "collapsed": false,
    "pycharm": {
     "name": "#%%\n"
    }
   }
  },
  {
   "cell_type": "code",
   "execution_count": 3,
   "outputs": [
    {
     "data": {
      "text/plain": "<Figure size 432x288 with 1 Axes>",
      "image/png": "[encoded data removed]"
     },
     "metadata": {
      "needs_background": "light"
     },
     "output_type": "display_data"
    }
   ],
   "source": [
    "plt.scatter(x=data['longitude'], y=data['latitude'], c=data['ids'], marker=\"+\")\n",
    "plt.show()"
   ],
   "metadata": {
    "collapsed": false,
    "pycharm": {
     "name": "#%%\n"
    }
   }
  },
  {
   "cell_type": "code",
   "execution_count": 4,
   "outputs": [
    {
     "data": {
      "text/plain": "ids          0\nlatitude     0\nlongitude    0\nfile         0\ndtype: int64"
     },
     "execution_count": 4,
     "metadata": {},
     "output_type": "execute_result"
    }
   ],
   "source": [
    "data.isnull().sum()"
   ],
   "metadata": {
    "collapsed": false,
    "pycharm": {
     "name": "#%%\n"
    }
   }
  },
  {
   "cell_type": "code",
   "execution_count": 5,
   "outputs": [],
   "source": [
    "def hash(sourcedf,destinationdf,*column):\n",
    "    columnName = ''\n",
    "    destinationdf['hash_'+columnName.join(column)] = pd.DataFrame(sourcedf[list(column)].values.sum(axis=1))[0].str.encode('utf-8').apply(lambda x: (hashlib.sha512(x).hexdigest().upper()))"
   ],
   "metadata": {
    "collapsed": false,
    "pycharm": {
     "name": "#%%\n"
    }
   }
  },
  {
   "cell_type": "code",
   "execution_count": 6,
   "outputs": [
    {
     "data": {
      "text/plain": "ids           object\nlatitude     float64\nlongitude    float64\nfile           int64\ndtype: object"
     },
     "execution_count": 6,
     "metadata": {},
     "output_type": "execute_result"
    }
   ],
   "source": [
    "data['ids'] = data['ids'].astype(str)\n",
    "data.dtypes"
   ],
   "metadata": {
    "collapsed": false,
    "pycharm": {
     "name": "#%%\n"
    }
   }
  },
  {
   "cell_type": "code",
   "execution_count": 7,
   "outputs": [
    {
     "data": {
      "text/plain": "    latitude   longitude  file  \\\n0  39.984702  116.318417     0   \n1  39.984683  116.318450     0   \n2  39.984686  116.318417     0   \n3  39.984688  116.318385     0   \n4  39.984655  116.318263     0   \n\n                                            hash_ids  \n0  31BCA02094EB78126A517B206A88C73CFA9EC6F704C703...  \n1  31BCA02094EB78126A517B206A88C73CFA9EC6F704C703...  \n2  31BCA02094EB78126A517B206A88C73CFA9EC6F704C703...  \n3  31BCA02094EB78126A517B206A88C73CFA9EC6F704C703...  \n4  31BCA02094EB78126A517B206A88C73CFA9EC6F704C703...  ",
      "text/html": "<div>\n<style scoped>\n    .dataframe tbody tr th:only-of-type {\n        vertical-align: middle;\n    }\n\n    .dataframe tbody tr th {\n        vertical-align: top;\n    }\n\n    .dataframe thead th {\n        text-align: right;\n    }\n</style>\n<table border=\"1\" class=\"dataframe\">\n  <thead>\n    <tr style=\"text-align: right;\">\n      <th></th>\n      <th>latitude</th>\n      <th>longitude</th>\n      <th>file</th>\n      <th>hash_ids</th>\n    </tr>\n  </thead>\n  <tbody>\n    <tr>\n      <th>0</th>\n      <td>39.984702</td>\n      <td>116.318417</td>\n      <td>0</td>\n      <td>31BCA02094EB78126A517B206A88C73CFA9EC6F704C703...</td>\n    </tr>\n    <tr>\n      <th>1</th>\n      <td>39.984683</td>\n      <td>116.318450</td>\n      <td>0</td>\n      <td>31BCA02094EB78126A517B206A88C73CFA9EC6F704C703...</td>\n    </tr>\n    <tr>\n      <th>2</th>\n      <td>39.984686</td>\n      <td>116.318417</td>\n      <td>0</td>\n      <td>31BCA02094EB78126A517B206A88C73CFA9EC6F704C703...</td>\n    </tr>\n    <tr>\n      <th>3</th>\n      <td>39.984688</td>\n      <td>116.318385</td>\n      <td>0</td>\n      <td>31BCA02094EB78126A517B206A88C73CFA9EC6F704C703...</td>\n    </tr>\n    <tr>\n      <th>4</th>\n      <td>39.984655</td>\n      <td>116.318263</td>\n      <td>0</td>\n      <td>31BCA02094EB78126A517B206A88C73CFA9EC6F704C703...</td>\n    </tr>\n  </tbody>\n</table>\n</div>"
     },
     "execution_count": 7,
     "metadata": {},
     "output_type": "execute_result"
    }
   ],
   "source": [
    "import hashlib\n",
    "import random\n",
    "#data.drop(labels='file',axis =1,inplace=True)\n",
    "hashed_data = data\n",
    "hash(data,hashed_data,'ids')\n",
    "hashed_data.drop(columns=['ids'], inplace=True)\n",
    "hashed_data.head()"
   ],
   "metadata": {
    "collapsed": false,
    "pycharm": {
     "name": "#%%\n"
    }
   }
  },
  {
   "cell_type": "code",
   "execution_count": 9,
   "outputs": [
    {
     "data": {
      "text/plain": "<Figure size 432x288 with 1 Axes>",
      "image/png": "[encoded data removed]"
     },
     "metadata": {
      "needs_background": "light"
     },
     "output_type": "display_data"
    }
   ],
   "source": [
    "plt.scatter(x=hashed_data['longitude'], y=data['latitude'], c='red', marker=\"+\")\n",
    "plt.show()"
   ],
   "metadata": {
    "collapsed": false,
    "pycharm": {
     "name": "#%%\n"
    }
   }
  },
  {
   "cell_type": "code",
   "execution_count": null,
   "outputs": [],
   "source": [],
   "metadata": {
    "collapsed": false,
    "pycharm": {
     "name": "#%%\n"
    }
   }
  }
 ],
 "metadata": {
  "kernelspec": {
   "display_name": "Python 3",
   "language": "python",
   "name": "python3"
  },
  "language_info": {
   "codemirror_mode": {
    "name": "ipython",
    "version": 2
   },
   "file_extension": ".py",
   "mimetype": "text/x-python",
   "name": "python",
   "nbconvert_exporter": "python",
   "pygments_lexer": "ipython2",
   "version": "2.7.6"
  }
 },
 "nbformat": 4,
 "nbformat_minor": 0
}