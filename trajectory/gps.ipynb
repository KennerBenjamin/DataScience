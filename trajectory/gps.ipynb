{
 "cells": [
  {
   "cell_type": "code",
   "execution_count": 6,
   "metadata": {
    "collapsed": true
   },
   "outputs": [],
   "source": [
    "import pandas as pd\n",
    "import numpy as np\n",
    "import matplotlib.pyplot as plt"
   ]
  },
  {
   "cell_type": "code",
   "execution_count": 7,
   "outputs": [
    {
     "name": "stdout",
     "output_type": "stream",
     "text": [
      "000\n",
      "001\n",
      "002\n",
      "003\n",
      "004\n",
      "005\n",
      "006\n",
      "007\n",
      "008\n",
      "009\n"
     ]
    },
    {
     "data": {
      "text/plain": "   ids   latitude   longitude file\n0  000  39.984702  116.318417    0\n1  000  39.984683  116.318450    0\n2  000  39.984686  116.318417    0\n3  000  39.984688  116.318385    0\n4  000  39.984655  116.318263    0",
      "text/html": "<div>\n<style scoped>\n    .dataframe tbody tr th:only-of-type {\n        vertical-align: middle;\n    }\n\n    .dataframe tbody tr th {\n        vertical-align: top;\n    }\n\n    .dataframe thead th {\n        text-align: right;\n    }\n</style>\n<table border=\"1\" class=\"dataframe\">\n  <thead>\n    <tr style=\"text-align: right;\">\n      <th></th>\n      <th>ids</th>\n      <th>latitude</th>\n      <th>longitude</th>\n      <th>file</th>\n    </tr>\n  </thead>\n  <tbody>\n    <tr>\n      <th>0</th>\n      <td>000</td>\n      <td>39.984702</td>\n      <td>116.318417</td>\n      <td>0</td>\n    </tr>\n    <tr>\n      <th>1</th>\n      <td>000</td>\n      <td>39.984683</td>\n      <td>116.318450</td>\n      <td>0</td>\n    </tr>\n    <tr>\n      <th>2</th>\n      <td>000</td>\n      <td>39.984686</td>\n      <td>116.318417</td>\n      <td>0</td>\n    </tr>\n    <tr>\n      <th>3</th>\n      <td>000</td>\n      <td>39.984688</td>\n      <td>116.318385</td>\n      <td>0</td>\n    </tr>\n    <tr>\n      <th>4</th>\n      <td>000</td>\n      <td>39.984655</td>\n      <td>116.318263</td>\n      <td>0</td>\n    </tr>\n  </tbody>\n</table>\n</div>"
     },
     "execution_count": 7,
     "metadata": {},
     "output_type": "execute_result"
    }
   ],
   "source": [
    "import os\n",
    "df = pd.DataFrame(columns=['ids','latitude','longitude','file'])\n",
    "directory = r'C:\\Users\\kenne\\Projects\\DataScienceHomework\\trajectory\\Geolife Trajectories 1.3\\Data'\n",
    "for folder in os.listdir(directory):\n",
    "    if folder == '010':\n",
    "        break\n",
    "    person = folder\n",
    "    print(person)\n",
    "    data = []\n",
    "    traj_folder = directory + '\\\\' + folder + '\\\\'  +'Trajectory'\n",
    "    for count, file in enumerate(os.listdir(traj_folder)):\n",
    "        lat = []\n",
    "        lon = []\n",
    "        ids = []\n",
    "        files = []\n",
    "        data = np.genfromtxt(traj_folder + '\\\\' + file,delimiter=',',skip_header=6)\n",
    "        for d in data:\n",
    "            lat.append(d[0])\n",
    "            lon.append(d[1])\n",
    "            ids.append(person)\n",
    "            files.append(count)\n",
    "        data_input = pd.DataFrame(list(zip(ids, lat, lon,files)), columns=['ids','latitude','longitude','file'])\n",
    "        df = df.append(data_input,ignore_index=True)\n",
    "df.head()"
   ],
   "metadata": {
    "collapsed": false,
    "pycharm": {
     "name": "#%%\n"
    }
   }
  },
  {
   "cell_type": "code",
   "execution_count": 8,
   "outputs": [],
   "source": [
    "df.to_csv(r'gps_raw.csv',index=False)"
   ],
   "metadata": {
    "collapsed": false,
    "pycharm": {
     "name": "#%%\n"
    }
   }
  }
 ],
 "metadata": {
  "kernelspec": {
   "display_name": "Python 3",
   "language": "python",
   "name": "python3"
  },
  "language_info": {
   "codemirror_mode": {
    "name": "ipython",
    "version": 2
   },
   "file_extension": ".py",
   "mimetype": "text/x-python",
   "name": "python",
   "nbconvert_exporter": "python",
   "pygments_lexer": "ipython2",
   "version": "2.7.6"
  }
 },
 "nbformat": 4,
 "nbformat_minor": 0
}